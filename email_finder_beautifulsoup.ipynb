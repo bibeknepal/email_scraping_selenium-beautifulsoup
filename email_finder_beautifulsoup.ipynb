{
 "cells": [
  {
   "cell_type": "code",
   "execution_count": 1,
   "id": "fb98cfcc-8c52-4cf3-a261-c5c7f5d81add",
   "metadata": {},
   "outputs": [],
   "source": [
    "import requests\n",
    "from bs4 import BeautifulSoup\n",
    "import re\n",
    "import pandas as pd\n",
    "import time"
   ]
  },
  {
   "cell_type": "code",
   "execution_count": 16,
   "id": "1796accd-a1a1-4247-ab46-9c97cd461d15",
   "metadata": {},
   "outputs": [
    {
     "data": {
      "text/html": [
       "<div>\n",
       "<style scoped>\n",
       "    .dataframe tbody tr th:only-of-type {\n",
       "        vertical-align: middle;\n",
       "    }\n",
       "\n",
       "    .dataframe tbody tr th {\n",
       "        vertical-align: top;\n",
       "    }\n",
       "\n",
       "    .dataframe thead th {\n",
       "        text-align: right;\n",
       "    }\n",
       "</style>\n",
       "<table border=\"1\" class=\"dataframe\">\n",
       "  <thead>\n",
       "    <tr style=\"text-align: right;\">\n",
       "      <th></th>\n",
       "      <th>Domain</th>\n",
       "    </tr>\n",
       "  </thead>\n",
       "  <tbody>\n",
       "    <tr>\n",
       "      <th>0</th>\n",
       "      <td>couponannie.com</td>\n",
       "    </tr>\n",
       "    <tr>\n",
       "      <th>1</th>\n",
       "      <td>thoughtshift.co.uk</td>\n",
       "    </tr>\n",
       "    <tr>\n",
       "      <th>2</th>\n",
       "      <td>jsfest.com.ua</td>\n",
       "    </tr>\n",
       "    <tr>\n",
       "      <th>3</th>\n",
       "      <td>zplux.com</td>\n",
       "    </tr>\n",
       "    <tr>\n",
       "      <th>4</th>\n",
       "      <td>sguru.org</td>\n",
       "    </tr>\n",
       "  </tbody>\n",
       "</table>\n",
       "</div>"
      ],
      "text/plain": [
       "               Domain\n",
       "0     couponannie.com\n",
       "1  thoughtshift.co.uk\n",
       "2       jsfest.com.ua\n",
       "3           zplux.com\n",
       "4           sguru.org"
      ]
     },
     "execution_count": 16,
     "metadata": {},
     "output_type": "execute_result"
    }
   ],
   "source": [
    "data = pd.read_csv('domain.csv')\n",
    "# data = data.head(5)\n",
    "data"
   ]
  },
  {
   "cell_type": "code",
   "execution_count": 17,
   "id": "d86194d5-2ae9-42cc-8188-5f46aed5e1fb",
   "metadata": {},
   "outputs": [],
   "source": [
    "email_pattern = re.compile(r'\\b[A-Za-z0-9._%+-]+@[A-Za-z0-9.-]+\\.[A-Za-z]{2,}\\b')\n",
    "domain_pattern = re.compile(\n",
    "\"^(http[s]?:\\\\/\\\\/(www\\\\.)?|ftp:\\\\/\\\\/(www\\\\.)?|www\\\\.){1}([0-9A-Za-z-\\\\.@:%_\\+~#=]+)+((\\\\.[a-zA-Z]{2,3})+)(/(.)*)?(\\\\?(.)*)?\",\n",
    "re.IGNORECASE,\n",
    ")\n",
    "image_pattern = re.compile(\n",
    "\"[^\\\\s]+(.*?)\\\\.(jpg|jpeg|png|gif|JPG|JPEG|PNG|GIF)$\", re.IGNORECASE\n",
    ")"
   ]
  },
  {
   "cell_type": "code",
   "execution_count": 19,
   "id": "33baa5bf-0e2f-4ff0-bb9b-5273f81810c8",
   "metadata": {},
   "outputs": [],
   "source": [
    "def scrape_email(domain):\n",
    "    list_emails = []\n",
    "    try:\n",
    "        if domain_pattern.match(domain):\n",
    "            response = requests.get(domain)\n",
    "        else:\n",
    "            response = requests.get(\"http://\" + domain + \"/\")\n",
    "        \n",
    "        \n",
    "        page_source = response.text\n",
    "        soup = BeautifulSoup(page_source, 'html.parser')\n",
    "        emails = re.findall(email_pattern, str(soup))\n",
    "            \n",
    "        for email in emails:\n",
    "            if email not in list_emails and image_pattern.match(email) is None:\n",
    "                list_emails.append(email)\n",
    "            \n",
    "        if len(list_emails) == 0:\n",
    "            print(f\"No email found in {domain}\")\n",
    "        else:\n",
    "            print(f\"Email found in Domain {domain} : Email: {list_emails}\")\n",
    "            \n",
    "        return list_emails\n",
    "    except Exception as e:\n",
    "        print(f\"Error fetching emails for {domain}: {str(e)}\")"
   ]
  },
  {
   "cell_type": "code",
   "execution_count": 20,
   "id": "2f6c626b-636d-4064-b93e-87149128d59d",
   "metadata": {},
   "outputs": [
    {
     "name": "stdout",
     "output_type": "stream",
     "text": [
      "No email found in couponannie.com\n",
      "Email found in Domain thoughtshift.co.uk : Email: ['hello@thoughtshift.co.uk']\n",
      "Email found in Domain jsfest.com.ua : Email: ['info@jsfest.com.ua', 'finance@jsfest.com.ua']\n",
      "No email found in zplux.com\n",
      "No email found in sguru.org\n"
     ]
    }
   ],
   "source": [
    "data['Email'] = data['Domain'].apply(scrape_email)"
   ]
  },
  {
   "cell_type": "code",
   "execution_count": 21,
   "id": "1e17c93a-3487-4a4c-a83f-27e1a9bdca70",
   "metadata": {},
   "outputs": [
    {
     "data": {
      "text/html": [
       "<div>\n",
       "<style scoped>\n",
       "    .dataframe tbody tr th:only-of-type {\n",
       "        vertical-align: middle;\n",
       "    }\n",
       "\n",
       "    .dataframe tbody tr th {\n",
       "        vertical-align: top;\n",
       "    }\n",
       "\n",
       "    .dataframe thead th {\n",
       "        text-align: right;\n",
       "    }\n",
       "</style>\n",
       "<table border=\"1\" class=\"dataframe\">\n",
       "  <thead>\n",
       "    <tr style=\"text-align: right;\">\n",
       "      <th></th>\n",
       "      <th>Domain</th>\n",
       "      <th>Email</th>\n",
       "    </tr>\n",
       "  </thead>\n",
       "  <tbody>\n",
       "    <tr>\n",
       "      <th>0</th>\n",
       "      <td>couponannie.com</td>\n",
       "      <td>[]</td>\n",
       "    </tr>\n",
       "    <tr>\n",
       "      <th>1</th>\n",
       "      <td>thoughtshift.co.uk</td>\n",
       "      <td>[hello@thoughtshift.co.uk]</td>\n",
       "    </tr>\n",
       "    <tr>\n",
       "      <th>2</th>\n",
       "      <td>jsfest.com.ua</td>\n",
       "      <td>[info@jsfest.com.ua, finance@jsfest.com.ua]</td>\n",
       "    </tr>\n",
       "    <tr>\n",
       "      <th>3</th>\n",
       "      <td>zplux.com</td>\n",
       "      <td>[]</td>\n",
       "    </tr>\n",
       "    <tr>\n",
       "      <th>4</th>\n",
       "      <td>sguru.org</td>\n",
       "      <td>[]</td>\n",
       "    </tr>\n",
       "  </tbody>\n",
       "</table>\n",
       "</div>"
      ],
      "text/plain": [
       "               Domain                                        Email\n",
       "0     couponannie.com                                           []\n",
       "1  thoughtshift.co.uk                   [hello@thoughtshift.co.uk]\n",
       "2       jsfest.com.ua  [info@jsfest.com.ua, finance@jsfest.com.ua]\n",
       "3           zplux.com                                           []\n",
       "4           sguru.org                                           []"
      ]
     },
     "execution_count": 21,
     "metadata": {},
     "output_type": "execute_result"
    }
   ],
   "source": [
    "data"
   ]
  },
  {
   "cell_type": "code",
   "execution_count": 15,
   "id": "8d7b6c5a-6269-4b1c-ab8b-c813111fed36",
   "metadata": {},
   "outputs": [],
   "source": [
    "filename = 'domain_email.csv'\n",
    "data.to_csv(filename,index = False)"
   ]
  }
 ],
 "metadata": {
  "kernelspec": {
   "display_name": "Python 3 (ipykernel)",
   "language": "python",
   "name": "python3"
  },
  "language_info": {
   "codemirror_mode": {
    "name": "ipython",
    "version": 3
   },
   "file_extension": ".py",
   "mimetype": "text/x-python",
   "name": "python",
   "nbconvert_exporter": "python",
   "pygments_lexer": "ipython3",
   "version": "3.11.5"
  }
 },
 "nbformat": 4,
 "nbformat_minor": 5
}
