{
 "cells": [
  {
   "cell_type": "code",
   "execution_count": 18,
   "id": "ac2509a7-7c3d-468d-a8b7-5c365af2bc39",
   "metadata": {},
   "outputs": [],
   "source": [
    "from selenium import webdriver\n",
    "import pandas as pd\n",
    "import re\n",
    "from selenium.webdriver.chrome.options import Options"
   ]
  },
  {
   "cell_type": "code",
   "execution_count": 21,
   "id": "7e5e3fdc-ecbb-4c4b-99c1-8086b54cf369",
   "metadata": {},
   "outputs": [],
   "source": [
    "data = pd.read_csv('domain2.csv')"
   ]
  },
  {
   "cell_type": "code",
   "execution_count": 30,
   "id": "6d1efe8f-f255-485a-b3e6-cf3de18f4e61",
   "metadata": {},
   "outputs": [],
   "source": [
    "# data = data.head(5)\n",
    "data"
   ]
  },
  {
   "cell_type": "code",
   "execution_count": 31,
   "id": "ccc242f3-fdd1-4d7a-94bf-76d47cc7edff",
   "metadata": {},
   "outputs": [],
   "source": [
    "chrome_options = Options()\n",
    "chrome_options.add_argument(\"--headless\")  # Run Chrome in headless mode\n",
    "chrome_options.add_argument('--blink-settings=imagesEnabled=false')\n",
    "chrome_options.add_argument(\"--disable-javascript\")  # Disable JavaScript execution"
   ]
  },
  {
   "cell_type": "code",
   "execution_count": 33,
   "id": "08543744-0087-4c07-a77a-b35a4e2f8b02",
   "metadata": {},
   "outputs": [],
   "source": [
    "email_pattern = re.compile(\"[A-Za-z0-9._%+-]+@[A-Za-z0-9.-]+\\.[A-Za-z]{2,4}\")\n",
    "domain_pattern = re.compile(\n",
    "\"^(http[s]?:\\\\/\\\\/(www\\\\.)?|ftp:\\\\/\\\\/(www\\\\.)?|www\\\\.){1}([0-9A-Za-z-\\\\.@:%_\\+~#=]+)+((\\\\.[a-zA-Z]{2,3})+)(/(.)*)?(\\\\?(.)*)?\",\n",
    "re.IGNORECASE,\n",
    ")\n",
    "image_pattern = re.compile(\n",
    "\"[^\\\\s]+(.*?)\\\\.(jpg|jpeg|png|gif|JPG|JPEG|PNG|GIF)$\", re.IGNORECASE\n",
    ")"
   ]
  },
  {
   "cell_type": "code",
   "execution_count": 34,
   "id": "29822317-6793-4c24-a789-cb59e3db798a",
   "metadata": {},
   "outputs": [],
   "source": [
    "def scrape_email(domain):\n",
    "        driver = webdriver.Chrome(options=chrome_options)\n",
    "        list_emails = []\n",
    "        attempts = 3\n",
    "        for attempt in range(attempts):\n",
    "            try:\n",
    "                if domain_pattern.match(domain):\n",
    "                    driver.get(domain)\n",
    "                else:\n",
    "                    driver.get(\"http://\" + domain + \"/\")\n",
    "                page_source = driver.page_source\n",
    "                emails = re.findall(email_pattern, page_source)\n",
    "                for email in emails:\n",
    "                    if email not in list_emails and image_pattern.match(email) is None:\n",
    "                        list_emails.append(email)\n",
    "                \n",
    "                driver.quit()\n",
    "                if len(list_emails) == 0:\n",
    "                    print(f\"Email not found in {domain}\")\n",
    "                else:\n",
    "                    print(f\"Email found in {domain} : {list_emails}\")\n",
    "                return list_emails  \n",
    "            except Exception as e:\n",
    "                print(f\"Attempt{attempt+1}: Error fetching emails for {domain}: {str(e)}\")"
   ]
  },
  {
   "cell_type": "code",
   "execution_count": 35,
   "id": "925dfcb4-6f28-48d0-9287-12300f21998e",
   "metadata": {},
   "outputs": [
    {
     "name": "stdout",
     "output_type": "stream",
     "text": [
      "Email not found in couponannie.com\n",
      "Email found in thoughtshift.co.uk : ['hello@thoughtshift.co.uk']\n",
      "Email found in jsfest.com.ua : ['info@jsfest.com.ua', 'finance@jsfest.com.ua']\n",
      "Email found in zplux.com : ['support@zplux.com']\n",
      "Email not found in sguru.org\n"
     ]
    },
    {
     "name": "stderr",
     "output_type": "stream",
     "text": [
      "C:\\Users\\MSI-1\\AppData\\Local\\Temp\\ipykernel_6496\\2474351608.py:1: SettingWithCopyWarning: \n",
      "A value is trying to be set on a copy of a slice from a DataFrame.\n",
      "Try using .loc[row_indexer,col_indexer] = value instead\n",
      "\n",
      "See the caveats in the documentation: https://pandas.pydata.org/pandas-docs/stable/user_guide/indexing.html#returning-a-view-versus-a-copy\n",
      "  data['Email'] = data['Domain'].apply(scrape_email)\n"
     ]
    }
   ],
   "source": [
    "data['Email'] = data['Domain'].apply(scrape_email)"
   ]
  },
  {
   "cell_type": "code",
   "execution_count": 37,
   "id": "13056bb1-fc94-43a0-97d7-4f7cd1dad86e",
   "metadata": {},
   "outputs": [
    {
     "data": {
      "text/html": [
       "<div>\n",
       "<style scoped>\n",
       "    .dataframe tbody tr th:only-of-type {\n",
       "        vertical-align: middle;\n",
       "    }\n",
       "\n",
       "    .dataframe tbody tr th {\n",
       "        vertical-align: top;\n",
       "    }\n",
       "\n",
       "    .dataframe thead th {\n",
       "        text-align: right;\n",
       "    }\n",
       "</style>\n",
       "<table border=\"1\" class=\"dataframe\">\n",
       "  <thead>\n",
       "    <tr style=\"text-align: right;\">\n",
       "      <th></th>\n",
       "      <th>Domain</th>\n",
       "      <th>Email</th>\n",
       "    </tr>\n",
       "  </thead>\n",
       "  <tbody>\n",
       "    <tr>\n",
       "      <th>0</th>\n",
       "      <td>couponannie.com</td>\n",
       "      <td>[]</td>\n",
       "    </tr>\n",
       "    <tr>\n",
       "      <th>1</th>\n",
       "      <td>thoughtshift.co.uk</td>\n",
       "      <td>[hello@thoughtshift.co.uk]</td>\n",
       "    </tr>\n",
       "    <tr>\n",
       "      <th>2</th>\n",
       "      <td>jsfest.com.ua</td>\n",
       "      <td>[info@jsfest.com.ua, finance@jsfest.com.ua]</td>\n",
       "    </tr>\n",
       "    <tr>\n",
       "      <th>3</th>\n",
       "      <td>zplux.com</td>\n",
       "      <td>[support@zplux.com]</td>\n",
       "    </tr>\n",
       "    <tr>\n",
       "      <th>4</th>\n",
       "      <td>sguru.org</td>\n",
       "      <td>[]</td>\n",
       "    </tr>\n",
       "  </tbody>\n",
       "</table>\n",
       "</div>"
      ],
      "text/plain": [
       "               Domain                                        Email\n",
       "0     couponannie.com                                           []\n",
       "1  thoughtshift.co.uk                   [hello@thoughtshift.co.uk]\n",
       "2       jsfest.com.ua  [info@jsfest.com.ua, finance@jsfest.com.ua]\n",
       "3           zplux.com                          [support@zplux.com]\n",
       "4           sguru.org                                           []"
      ]
     },
     "execution_count": 37,
     "metadata": {},
     "output_type": "execute_result"
    }
   ],
   "source": [
    "data"
   ]
  },
  {
   "cell_type": "code",
   "execution_count": 28,
   "id": "8aec2f90-3457-42c2-b130-774751cb19b1",
   "metadata": {},
   "outputs": [],
   "source": [
    "filename = 'domain22.csv'\n",
    "data.to_csv(filename,index = False)"
   ]
  }
 ],
 "metadata": {
  "kernelspec": {
   "display_name": "Python 3 (ipykernel)",
   "language": "python",
   "name": "python3"
  },
  "language_info": {
   "codemirror_mode": {
    "name": "ipython",
    "version": 3
   },
   "file_extension": ".py",
   "mimetype": "text/x-python",
   "name": "python",
   "nbconvert_exporter": "python",
   "pygments_lexer": "ipython3",
   "version": "3.11.5"
  }
 },
 "nbformat": 4,
 "nbformat_minor": 5
}
